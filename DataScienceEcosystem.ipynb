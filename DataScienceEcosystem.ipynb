{
 "cells": [
  {
   "cell_type": "markdown",
   "id": "0cd18b3f-a1ab-4d43-ac3b-34d02c8a9972",
   "metadata": {},
   "source": [
    "# Data Science Tools and Ecosystem"
   ]
  },
  {
   "cell_type": "markdown",
   "id": "8ce6c6a9-d292-4f21-9be4-4ce2cb739e0f",
   "metadata": {},
   "source": [
    "In this notebook, Data Science Tools and Ecosystem are summarized."
   ]
  },
  {
   "cell_type": "markdown",
   "id": "4c51bf9f-20f6-495d-a889-6f4023b33f17",
   "metadata": {},
   "source": [
    "**Objectives:**\n",
    "\n",
    "- List popular languages for Data Science.\n",
    "- Identify commonly used libraries by Data Scientists.\n",
    "- Create a markdown cell with a table of Data Science tools.\n",
    "- Understand how to format output using string formatting in Python.\n",
    "- Insert and format a markdown cell to indicate key takeaways from the course."
   ]
  },
  {
   "cell_type": "code",
   "execution_count": null,
   "id": "e838a73e-941d-4f72-81e8-7fc4bd68ae71",
   "metadata": {},
   "outputs": [],
   "source": []
  },
  {
   "cell_type": "markdown",
   "id": "6fa25618-6e12-4f82-bdb9-9f0a7dfef370",
   "metadata": {},
   "source": [
    "Some of the popular languages that Data Scientists use are: 1.python 2.R 3.SQL"
   ]
  },
  {
   "cell_type": "markdown",
   "id": "d0aa2af4-4926-41f9-9cb7-e9db26c461d8",
   "metadata": {},
   "source": [
    "Some of the commonly used libraries used by Data Scientists include: 1.Numpy 2.Pandas 3.Matplotlib"
   ]
  },
  {
   "cell_type": "markdown",
   "id": "4867755f-8589-4bb6-a635-f49ae3e89453",
   "metadata": {},
   "source": [
    "| Data Science Tools |\n",
    "|--------------------|\n",
    "| Jupyter Notebook   |\n",
    "| RStudio            |\n",
    "| Visual Studio Code |\n",
    "\n"
   ]
  },
  {
   "cell_type": "markdown",
   "id": "f7532761-7e3a-4ea4-aee9-6a3949c3bdb6",
   "metadata": {},
   "source": [
    "### Below are a few examples of evaluating arithmetic expressions in Python"
   ]
  },
  {
   "cell_type": "markdown",
   "id": "59b994df-c3b8-4db8-ad51-4dfd79f85f88",
   "metadata": {},
   "source": [
    " This a simple arithmetic expression to mutiply then add integers"
   ]
  },
  {
   "cell_type": "code",
   "execution_count": 3,
   "id": "fdff7d3d-e2af-425c-9111-fc630d49c459",
   "metadata": {},
   "outputs": [
    {
     "data": {
      "text/plain": [
       "17"
      ]
     },
     "execution_count": 3,
     "metadata": {},
     "output_type": "execute_result"
    }
   ],
   "source": [
    "(3*4)+5"
   ]
  },
  {
   "cell_type": "markdown",
   "id": "1c66fd1f-10d5-4e04-9c1b-9bf1953dda22",
   "metadata": {},
   "source": [
    "This will convert 200 minutes to hours by diving by 60"
   ]
  },
  {
   "cell_type": "code",
   "execution_count": 7,
   "id": "1f359473-01f2-42d6-8abc-f969a9fbe122",
   "metadata": {},
   "outputs": [
    {
     "name": "stdout",
     "output_type": "stream",
     "text": [
      "3.33 hours\n"
     ]
    }
   ],
   "source": [
    "a = 200/60\n",
    "print('{:.2f} hours'.format(a))"
   ]
  },
  {
   "cell_type": "markdown",
   "id": "679e30a8-7678-44d7-8eee-4a4e5a867b23",
   "metadata": {},
   "source": [
    "## Author\n",
    "Luks Yang"
   ]
  },
  {
   "cell_type": "code",
   "execution_count": null,
   "id": "2ba4a2fc-e919-4756-bd7c-baf62c813115",
   "metadata": {},
   "outputs": [],
   "source": []
  }
 ],
 "metadata": {
  "kernelspec": {
   "display_name": "Python 3 (ipykernel)",
   "language": "python",
   "name": "python3"
  },
  "language_info": {
   "codemirror_mode": {
    "name": "ipython",
    "version": 3
   },
   "file_extension": ".py",
   "mimetype": "text/x-python",
   "name": "python",
   "nbconvert_exporter": "python",
   "pygments_lexer": "ipython3",
   "version": "3.9.18"
  }
 },
 "nbformat": 4,
 "nbformat_minor": 5
}
